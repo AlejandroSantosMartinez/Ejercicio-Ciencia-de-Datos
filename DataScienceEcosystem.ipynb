{
 "cells": [
  {
   "cell_type": "markdown",
   "id": "eefd3903-09a1-41ad-9575-0eeae6be6d26",
   "metadata": {},
   "source": [
    "# Data Science Tolls and Ecosystem"
   ]
  },
  {
   "cell_type": "markdown",
   "id": "5564daff-73d0-4b3f-af0e-425e05e16f2b",
   "metadata": {},
   "source": [
    "En este cuaderno , se resumen las herramientas y ecosistemas de ciencia de datos"
   ]
  },
  {
   "cell_type": "markdown",
   "id": "37fbddb0-9bb1-4993-a7c2-d000fa2f9d2f",
   "metadata": {},
   "source": [
    "**Objetivos:**\n",
    "- Listar lenguajes populares.\n",
    "- Bibliotecas comúnmente usadas\n",
    "- Herramientas de Ciencias de datos\n",
    "- Expresiones aritmética de Python"
   ]
  },
  {
   "cell_type": "markdown",
   "id": "c480a2c3-8965-4058-9846-c8c9115dc052",
   "metadata": {},
   "source": [
    "Algunos de los lenguajes populares que utilizan los científicos de datos son:\n",
    "\n",
    "1. Python\n",
    "2. R\n",
    "3. SQL\n",
    "4. Julia"
   ]
  },
  {
   "cell_type": "markdown",
   "id": "da773a83-36ea-4f5d-9db5-b2a848e5e419",
   "metadata": {},
   "source": [
    "Algunas de la bibliotecas comúnmente utilizadas por los científicos de datos incluyen:\n",
    "1. NumPy\n",
    "2. Pandas\n",
    "3. Matplotlib\n",
    "4. SciPy"
   ]
  },
  {
   "cell_type": "markdown",
   "id": "9c30398a-2b82-4261-b408-884807690ba2",
   "metadata": {},
   "source": [
    "|Herramientas de Ciencias de Datos|\n",
    "|---------------------------------|\n",
    "|Jypyter Notebook|\n",
    "|RStudio|\n",
    "|Apache Zeppelin|"
   ]
  },
  {
   "cell_type": "markdown",
   "id": "7463b862-9534-4e15-a38f-5e7eb06d8b29",
   "metadata": {},
   "source": [
    "### A continuación, se presentan algunos ejemplos de evaluación de expresiones aritméticas en Python"
   ]
  },
  {
   "cell_type": "markdown",
   "id": "1f119649-a02c-4c4f-a23a-ad7fee0cc6b3",
   "metadata": {},
   "source": [
    "Esta es una expresión aritmética simple para multiplicar y luego sumar enteros."
   ]
  },
  {
   "cell_type": "code",
   "execution_count": 1,
   "id": "9c702083-47f6-4bb4-b57d-478cb1a572de",
   "metadata": {},
   "outputs": [
    {
     "data": {
      "text/plain": [
       "17"
      ]
     },
     "execution_count": 1,
     "metadata": {},
     "output_type": "execute_result"
    }
   ],
   "source": [
    "(3*4)+5"
   ]
  },
  {
   "cell_type": "code",
   "execution_count": 2,
   "id": "c0fc4881-7fd3-4715-aa18-ea48b57f7db5",
   "metadata": {},
   "outputs": [
    {
     "data": {
      "text/plain": [
       "3.3333333333333335"
      ]
     },
     "execution_count": 2,
     "metadata": {},
     "output_type": "execute_result"
    }
   ],
   "source": [
    "minutos= 200\n",
    "horas = minutos / 60\n",
    "horas"
   ]
  },
  {
   "cell_type": "markdown",
   "id": "f9ad9bd2-65ce-4d6a-bacf-da591036373e",
   "metadata": {},
   "source": [
    "## Autor\n",
    "Alejandro Santos Martínez"
   ]
  },
  {
   "cell_type": "code",
   "execution_count": null,
   "id": "51ba0678-18cc-4944-882a-c3e061222aaa",
   "metadata": {},
   "outputs": [],
   "source": []
  }
 ],
 "metadata": {
  "kernelspec": {
   "display_name": "Python 3 (ipykernel)",
   "language": "python",
   "name": "python3"
  },
  "language_info": {
   "codemirror_mode": {
    "name": "ipython",
    "version": 3
   },
   "file_extension": ".py",
   "mimetype": "text/x-python",
   "name": "python",
   "nbconvert_exporter": "python",
   "pygments_lexer": "ipython3",
   "version": "3.12.7"
  }
 },
 "nbformat": 4,
 "nbformat_minor": 5
}
